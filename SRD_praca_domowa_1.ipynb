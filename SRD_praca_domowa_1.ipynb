{
 "cells": [
  {
   "cell_type": "markdown",
   "metadata": {},
   "source": [
    "# SRD 1 praca domowa"
   ]
  },
  {
   "cell_type": "markdown",
   "metadata": {},
   "source": [
    "<b> Termin oddania: 04.04.2019</b>\n",
    "\n",
    "Rozwiązane zadania można wysyłać w 2 formatach. Albo jako skrypt <tt>.jl</tt>  z komentarzami określającymi numer rozwiązywanego zadania, albo jako uzupełniony notatnik z poleceniami (format <tt>.ipynb</tt>) razem z wygenerowanym na jego podstawie plikiem <tt>.html</tt>. Można to zrobić drogą mailową wysyłając plik lub pliki na adres [bpankra@sgh.waw..pl](mailto: bpankra@sgh.waw.pl)"
   ]
  },
  {
   "cell_type": "markdown",
   "metadata": {},
   "source": [
    "## Zadanie 1"
   ]
  },
  {
   "cell_type": "markdown",
   "metadata": {},
   "source": [
    "Napisz funkcję, która dla dowolnego wektora długości $n$ wygeneruje [Macierz Vandermonde’a](https://pl.wikipedia.org/wiki/Macierz_Vandermonde%E2%80%99a) <b>(3 p.)</b>"
   ]
  },
  {
   "cell_type": "code",
   "execution_count": 1,
   "metadata": {},
   "outputs": [
    {
     "data": {
      "text/plain": [
       "6×6 Array{Float64,2}:\n",
       " 1.0  0.0   0.0    0.0     0.0      0.0\n",
       " 1.0  2.0   4.0    8.0    16.0     32.0\n",
       " 1.0  4.0  16.0   64.0   256.0   1024.0\n",
       " 1.0  8.0  64.0  512.0  4096.0  32768.0\n",
       " 1.0  1.0   1.0    1.0     1.0      1.0\n",
       " 1.0  2.0   4.0    8.0    16.0     32.0"
      ]
     },
     "execution_count": 1,
     "metadata": {},
     "output_type": "execute_result"
    }
   ],
   "source": [
    "function Vandermonde_Matrix(vector::Array{Int64,1})\n",
    "    matrix = ones(length(vector),length(vector)) # generacja macierzy o długościach takich samych jak wejściowy wektor\n",
    "    for i in 1:length(vector)\n",
    "        matrix[i,2] = vector[i,1] # input wejściowego wektora do drugiej kolumny macierzy\n",
    "        for j in 3:length(vector)\n",
    "            matrix[i,j] = (matrix[i,2])^(j-1) # kalkulacja kolejnych potęg\n",
    "        end\n",
    "    end\n",
    "    return matrix\n",
    "end\n",
    "Vandermonde_Matrix([0,2,4,8,1,2]) # wywołanie funkcji"
   ]
  },
  {
   "cell_type": "markdown",
   "metadata": {},
   "source": [
    "## Zadanie 2"
   ]
  },
  {
   "cell_type": "markdown",
   "metadata": {},
   "source": [
    "Korzystając z odpowiednich bibliotek i wbudowanych funkcji napisz funkcję, która generuje macierz trójdiagonalną o rozmiarze $n \\times n$ i [postaci](https://en.wikipedia.org/wiki/Toeplitz_matrix):\n",
    "\n",
    "\\begin{bmatrix}\n",
    "4 & -1 & 0 & 0 & \\dots & 0 \\\\\n",
    "-1 &  4 & -1 & 0 & \\dots  & 0 \\\\\n",
    "0 &  -1 & 4  & -1 & \\dots & 0 \\\\\n",
    "\\vdots & \\vdots & \\vdots  & \\vdots & \\ddots & \\vdots \\\\\n",
    "0 & 0 & 0 & 0 & \\dots & 4 \\\\\n",
    "\\end{bmatrix}\n",
    "\n",
    "Następnie napisz kod, który dla macierzy z $A$ wygenerowanej za pomocą funkcji z poprzedniego zadania o wymiarach $n \\in [10,100,200,500,700,1000,2000,5000,7000,10000]$ wyznaczy rozwiązanie równania $Ax = b$, gdzie $b$ jest wektorem jedynek o długości $n$. Wykorzystaj do tego trzy metody:\n",
    "\n",
    "- wbudowaną w pakiet [<tt>LinearAlgebra</tt>](https://docs.julialang.org/en/v1/stdlib/LinearAlgebra/index.html) funkcję [<tt>Cholesky</tt>](https://en.wikipedia.org/wiki/Cholesky_decomposition)\n",
    "- operator dzielenia macierzy <tt>A\\b</tt> \n",
    "- mnożenie wektora przez odwrotność macierzy: <tt>$A^{-1}b$</tt>\n",
    "\n",
    "Przedstaw na wykresie czas działania tych trzech metod w zależności od $n$. <b>(4 p.)</b>"
   ]
  },
  {
   "cell_type": "code",
   "execution_count": 2,
   "metadata": {},
   "outputs": [
    {
     "name": "stdout",
     "output_type": "stream",
     "text": [
      "\u001b[32m\u001b[1m Resolving\u001b[22m\u001b[39m package versions...\n",
      "\u001b[32m\u001b[1m  Updating\u001b[22m\u001b[39m `~/.julia/Project.toml`\n",
      "\u001b[90m [no changes]\u001b[39m\n",
      "\u001b[32m\u001b[1m  Updating\u001b[22m\u001b[39m `~/.julia/Manifest.toml`\n",
      "\u001b[90m [no changes]\u001b[39m\n",
      "\u001b[32m\u001b[1m Resolving\u001b[22m\u001b[39m package versions...\n",
      "\u001b[32m\u001b[1m  Updating\u001b[22m\u001b[39m `~/.julia/Project.toml`\n",
      "\u001b[90m [no changes]\u001b[39m\n",
      "\u001b[32m\u001b[1m  Updating\u001b[22m\u001b[39m `~/.julia/Manifest.toml`\n",
      "\u001b[90m [no changes]\u001b[39m\n",
      "\u001b[32m\u001b[1m Resolving\u001b[22m\u001b[39m package versions...\n",
      "\u001b[32m\u001b[1m  Updating\u001b[22m\u001b[39m `~/.julia/Project.toml`\n",
      "\u001b[90m [no changes]\u001b[39m\n",
      "\u001b[32m\u001b[1m  Updating\u001b[22m\u001b[39m `~/.julia/Manifest.toml`\n",
      "\u001b[90m [no changes]\u001b[39m\n"
     ]
    },
    {
     "data": {
      "text/plain": [
       "Plots.PlotlyBackend()"
      ]
     },
     "execution_count": 2,
     "metadata": {},
     "output_type": "execute_result"
    }
   ],
   "source": [
    "# import i instalacja potrzebnych bibliotek\n",
    "import Pkg\n",
    "Pkg.add(\"TimesDates\")\n",
    "Pkg.add(\"LinearAlgebra\")\n",
    "Pkg.add(\"Plots\")\n",
    "#using BenchmarkTools\n",
    "using TimesDates, Dates\n",
    "using LinearAlgebra\n",
    "using Plots\n",
    "plotly()"
   ]
  },
  {
   "cell_type": "code",
   "execution_count": 3,
   "metadata": {},
   "outputs": [
    {
     "data": {
      "text/plain": [
       "10×10 Array{Float64,2}:\n",
       "  4.0  -1.0   0.0   0.0   0.0   0.0   0.0   0.0   0.0   0.0\n",
       " -1.0   4.0  -1.0   0.0   0.0   0.0   0.0   0.0   0.0   0.0\n",
       "  0.0  -1.0   4.0  -1.0   0.0   0.0   0.0   0.0   0.0   0.0\n",
       "  0.0   0.0  -1.0   4.0  -1.0   0.0   0.0   0.0   0.0   0.0\n",
       "  0.0   0.0   0.0  -1.0   4.0  -1.0   0.0   0.0   0.0   0.0\n",
       "  0.0   0.0   0.0   0.0  -1.0   4.0  -1.0   0.0   0.0   0.0\n",
       "  0.0   0.0   0.0   0.0   0.0  -1.0   4.0  -1.0   0.0   0.0\n",
       "  0.0   0.0   0.0   0.0   0.0   0.0  -1.0   4.0  -1.0   0.0\n",
       "  0.0   0.0   0.0   0.0   0.0   0.0   0.0  -1.0   4.0  -1.0\n",
       "  0.0   0.0   0.0   0.0   0.0   0.0   0.0   0.0  -1.0   4.0"
      ]
     },
     "execution_count": 3,
     "metadata": {},
     "output_type": "execute_result"
    }
   ],
   "source": [
    "# po diagonali liczba 4, obok diagonali -1\n",
    "function Tridiagonal_Matrix(n)\n",
    "    matrix = zeros(n,n)\n",
    "    for i in 1:n\n",
    "        matrix[i,i] = 4\n",
    "    end\n",
    "    for i in 1:(n-1)\n",
    "        matrix[i+1,i] = -1\n",
    "        matrix[i,i+1] = -1\n",
    "    end\n",
    "    return matrix\n",
    "end\n",
    "Tridiagonal_Matrix(10)"
   ]
  },
  {
   "cell_type": "code",
   "execution_count": 4,
   "metadata": {},
   "outputs": [],
   "source": [
    "# wykonanie macierzy trzema metodami\n",
    "# czas wykonania jest zliczany do array y\n",
    "y = zeros(10,3)\n",
    "i = 1\n",
    "for n in [10,100,200,500,700,1000,2000,5000,7000,10000]\n",
    "    A = Tridiagonal_Matrix(n)\n",
    "    b = ones(n,1)\n",
    "    start = now(); cholesky(A)\\b; stop = now()\n",
    "    y[i,1] = Dates.value(Dates.Millisecond(stop - start))\n",
    "    start = now(); A\\b; stop = now()\n",
    "    y[i,2] = Dates.value(Dates.Millisecond(stop - start))\n",
    "    start = now(); A^(-1)*b; stop = now()\n",
    "    y[i,3] = Dates.value(Dates.Millisecond(stop - start))\n",
    "    i += 1\n",
    "end"
   ]
  },
  {
   "cell_type": "code",
   "execution_count": 5,
   "metadata": {},
   "outputs": [
    {
     "data": {
      "text/html": [
       "    <script type=\"text/javascript\">\n",
       "        requirejs([\"https://cdn.plot.ly/plotly-latest.min.js\"], function(p) {\n",
       "            window.Plotly = p\n",
       "        });\n",
       "    </script>\n"
      ]
     },
     "metadata": {},
     "output_type": "display_data"
    },
    {
     "data": {
      "application/vnd.plotly.v1+json": {
       "data": [
        {
         "colorbar": {
          "title": ""
         },
         "hoverinfo": "text",
         "legendgroup": "Cholesky",
         "line": {
          "color": "rgba(0, 154, 250, 1.000)",
          "dash": "solid",
          "shape": "linear",
          "width": 3
         },
         "mode": "lines",
         "name": "Cholesky",
         "showlegend": true,
         "text": [
          null,
          null,
          null,
          null,
          null,
          null,
          null,
          null,
          null,
          null
         ],
         "type": "scatter",
         "x": [
          0.5,
          1.5,
          2.5,
          3.5,
          4.5,
          5.5,
          6.5,
          7.5,
          8.5,
          9.5
         ],
         "xaxis": "x1",
         "y": [
          81,
          1,
          1,
          3,
          81,
          85,
          216,
          1688,
          3686,
          9425
         ],
         "yaxis": "y1",
         "zmax": 0.1,
         "zmin": -0.1
        },
        {
         "colorbar": {
          "title": ""
         },
         "hoverinfo": "text",
         "legendgroup": "A\\b",
         "line": {
          "color": "rgba(227, 111, 71, 1.000)",
          "dash": "solid",
          "shape": "linear",
          "width": 3
         },
         "mode": "lines",
         "name": "A\\b",
         "showlegend": true,
         "text": [
          null,
          null,
          null,
          null,
          null,
          null,
          null,
          null,
          null,
          null
         ],
         "type": "scatter",
         "x": [
          0.5,
          1.5,
          2.5,
          3.5,
          4.5,
          5.5,
          6.5,
          7.5,
          8.5,
          9.5
         ],
         "xaxis": "x1",
         "y": [
          13,
          1,
          3,
          25,
          13,
          276,
          393,
          2468,
          6200,
          16508
         ],
         "yaxis": "y1",
         "zmax": 0.1,
         "zmin": -0.1
        },
        {
         "colorbar": {
          "title": ""
         },
         "hoverinfo": "text",
         "legendgroup": "A^(-1)*b",
         "line": {
          "color": "rgba(62, 164, 78, 1.000)",
          "dash": "solid",
          "shape": "linear",
          "width": 3
         },
         "mode": "lines",
         "name": "A^(-1)*b",
         "showlegend": true,
         "text": [
          null,
          null,
          null,
          null,
          null,
          null,
          null,
          null,
          null,
          null
         ],
         "type": "scatter",
         "x": [
          0.5,
          1.5,
          2.5,
          3.5,
          4.5,
          5.5,
          6.5,
          7.5,
          8.5,
          9.5
         ],
         "xaxis": "x1",
         "y": [
          0,
          1,
          4,
          13,
          206,
          130,
          900,
          8400,
          21790,
          59568
         ],
         "yaxis": "y1",
         "zmax": 0.1,
         "zmin": -0.1
        }
       ],
       "layout": {
        "annotations": [
         {
          "font": {
           "color": "rgba(0, 0, 0, 1.000)",
           "family": "sans-serif",
           "size": 20
          },
          "rotation": 0,
          "showarrow": false,
          "text": "Czas obliczeń [ms]",
          "x": 0.5370370370370371,
          "xanchor": "center",
          "xref": "paper",
          "y": 1,
          "yanchor": "top",
          "yref": "paper"
         }
        ],
        "height": 400,
        "legend": {
         "bgcolor": "rgba(255, 255, 255, 1.000)",
         "bordercolor": "rgba(0, 0, 0, 1.000)",
         "font": {
          "color": "rgba(0, 0, 0, 1.000)",
          "family": "sans-serif",
          "size": 11
         },
         "tracegroupgap": 0,
         "x": 1,
         "y": 1
        },
        "margin": {
         "b": 20,
         "l": 0,
         "r": 0,
         "t": 20
        },
        "paper_bgcolor": "rgba(255, 255, 255, 1.000)",
        "plot_bgcolor": "rgba(255, 255, 255, 1.000)",
        "showlegend": true,
        "width": 600,
        "xaxis": {
         "anchor": "y1",
         "domain": [
          0.08063575386410031,
          0.9934383202099737
         ],
         "gridcolor": "rgba(0, 0, 0, 0.100)",
         "gridwidth": 0.5,
         "linecolor": "rgba(0, 0, 0, 1.000)",
         "mirror": false,
         "range": [
          0.22999999999999998,
          9.77
         ],
         "showgrid": true,
         "showline": true,
         "showticklabels": true,
         "tickangle": 0,
         "tickcolor": "rgb(0, 0, 0)",
         "tickfont": {
          "color": "rgba(0, 0, 0, 1.000)",
          "family": "sans-serif",
          "size": 11
         },
         "tickmode": "array",
         "ticks": "inside",
         "ticktext": [
          "10",
          "100",
          "100",
          "200",
          "500",
          "500",
          "700",
          "1000",
          "1000",
          "2000",
          "2000",
          "5000",
          "7000",
          "7000",
          "10000"
         ],
         "tickvals": [
          0.5,
          1.5,
          1.5,
          2.5,
          3.5,
          3.5,
          4.5,
          5.5,
          5.5,
          6.5,
          6.5,
          7.5,
          8.5,
          8.5,
          9.5
         ],
         "title": "",
         "titlefont": {
          "color": "rgba(0, 0, 0, 1.000)",
          "family": "sans-serif",
          "size": 15
         },
         "type": "-",
         "visible": true,
         "zeroline": false,
         "zerolinecolor": "rgba(0, 0, 0, 1.000)"
        },
        "yaxis": {
         "anchor": "x1",
         "domain": [
          0.03762029746281716,
          0.9415463692038496
         ],
         "gridcolor": "rgba(0, 0, 0, 0.100)",
         "gridwidth": 0.5,
         "linecolor": "rgba(0, 0, 0, 1.000)",
         "mirror": false,
         "range": [
          -1787.04,
          61355.04
         ],
         "showgrid": true,
         "showline": true,
         "showticklabels": true,
         "tickangle": 0,
         "tickcolor": "rgb(0, 0, 0)",
         "tickfont": {
          "color": "rgba(0, 0, 0, 1.000)",
          "family": "sans-serif",
          "size": 11
         },
         "tickmode": "array",
         "ticks": "inside",
         "ticktext": [
          "0",
          "1×10⁴",
          "2×10⁴",
          "3×10⁴",
          "4×10⁴",
          "5×10⁴",
          "6×10⁴"
         ],
         "tickvals": [
          0,
          10000,
          20000,
          30000,
          40000,
          50000,
          60000
         ],
         "title": "",
         "titlefont": {
          "color": "rgba(0, 0, 0, 1.000)",
          "family": "sans-serif",
          "size": 15
         },
         "type": "-",
         "visible": true,
         "zeroline": false,
         "zerolinecolor": "rgba(0, 0, 0, 1.000)"
        }
       }
      },
      "text/html": [
       "    <div id=\"a2050998-19e5-4e67-b4a1-a3dfc978564b\" style=\"width:600px;height:400px;\"></div>\n",
       "    <script>\n",
       "    PLOT = document.getElementById('a2050998-19e5-4e67-b4a1-a3dfc978564b');\n",
       "    Plotly.plot(PLOT, [{\"xaxis\":\"x1\",\"colorbar\":{\"title\":\"\"},\"yaxis\":\"y1\",\"text\":[null,null,null,null,null,null,null,null,null,null],\"x\":[0.5,1.5,2.5,3.5,4.5,5.5,6.5,7.5,8.5,9.5],\"showlegend\":true,\"mode\":\"lines\",\"name\":\"Cholesky\",\"zmin\":-0.1,\"legendgroup\":\"Cholesky\",\"zmax\":0.1,\"line\":{\"color\":\"rgba(0, 154, 250, 1.000)\",\"shape\":\"linear\",\"dash\":\"solid\",\"width\":3},\"y\":[81.0,1.0,1.0,3.0,81.0,85.0,216.0,1688.0,3686.0,9425.0],\"type\":\"scatter\",\"hoverinfo\":\"text\"},{\"xaxis\":\"x1\",\"colorbar\":{\"title\":\"\"},\"yaxis\":\"y1\",\"text\":[null,null,null,null,null,null,null,null,null,null],\"x\":[0.5,1.5,2.5,3.5,4.5,5.5,6.5,7.5,8.5,9.5],\"showlegend\":true,\"mode\":\"lines\",\"name\":\"A\\\\b\",\"zmin\":-0.1,\"legendgroup\":\"A\\\\b\",\"zmax\":0.1,\"line\":{\"color\":\"rgba(227, 111, 71, 1.000)\",\"shape\":\"linear\",\"dash\":\"solid\",\"width\":3},\"y\":[13.0,1.0,3.0,25.0,13.0,276.0,393.0,2468.0,6200.0,16508.0],\"type\":\"scatter\",\"hoverinfo\":\"text\"},{\"xaxis\":\"x1\",\"colorbar\":{\"title\":\"\"},\"yaxis\":\"y1\",\"text\":[null,null,null,null,null,null,null,null,null,null],\"x\":[0.5,1.5,2.5,3.5,4.5,5.5,6.5,7.5,8.5,9.5],\"showlegend\":true,\"mode\":\"lines\",\"name\":\"A^(-1)*b\",\"zmin\":-0.1,\"legendgroup\":\"A^(-1)*b\",\"zmax\":0.1,\"line\":{\"color\":\"rgba(62, 164, 78, 1.000)\",\"shape\":\"linear\",\"dash\":\"solid\",\"width\":3},\"y\":[0.0,1.0,4.0,13.0,206.0,130.0,900.0,8400.0,21790.0,59568.0],\"type\":\"scatter\",\"hoverinfo\":\"text\"}], {\"showlegend\":true,\"xaxis\":{\"showticklabels\":true,\"gridwidth\":0.5,\"tickvals\":[0.5,1.5,1.5,2.5,3.5,3.5,4.5,5.5,5.5,6.5,6.5,7.5,8.5,8.5,9.5],\"visible\":true,\"ticks\":\"inside\",\"range\":[0.22999999999999998,9.77],\"domain\":[0.08063575386410031,0.9934383202099737],\"tickmode\":\"array\",\"linecolor\":\"rgba(0, 0, 0, 1.000)\",\"showgrid\":true,\"title\":\"\",\"mirror\":false,\"tickangle\":0,\"showline\":true,\"gridcolor\":\"rgba(0, 0, 0, 0.100)\",\"titlefont\":{\"color\":\"rgba(0, 0, 0, 1.000)\",\"family\":\"sans-serif\",\"size\":15},\"tickcolor\":\"rgb(0, 0, 0)\",\"ticktext\":[\"10\",\"100\",\"100\",\"200\",\"500\",\"500\",\"700\",\"1000\",\"1000\",\"2000\",\"2000\",\"5000\",\"7000\",\"7000\",\"10000\"],\"zeroline\":false,\"type\":\"-\",\"tickfont\":{\"color\":\"rgba(0, 0, 0, 1.000)\",\"family\":\"sans-serif\",\"size\":11},\"zerolinecolor\":\"rgba(0, 0, 0, 1.000)\",\"anchor\":\"y1\"},\"paper_bgcolor\":\"rgba(255, 255, 255, 1.000)\",\"annotations\":[{\"yanchor\":\"top\",\"xanchor\":\"center\",\"rotation\":-0.0,\"y\":1.0,\"font\":{\"color\":\"rgba(0, 0, 0, 1.000)\",\"family\":\"sans-serif\",\"size\":20},\"yref\":\"paper\",\"showarrow\":false,\"text\":\"Czas obliczeń [ms]\",\"xref\":\"paper\",\"x\":0.5370370370370371}],\"height\":400,\"margin\":{\"l\":0,\"b\":20,\"r\":0,\"t\":20},\"plot_bgcolor\":\"rgba(255, 255, 255, 1.000)\",\"yaxis\":{\"showticklabels\":true,\"gridwidth\":0.5,\"tickvals\":[0.0,10000.0,20000.0,30000.0,40000.0,50000.0,60000.0],\"visible\":true,\"ticks\":\"inside\",\"range\":[-1787.04,61355.04],\"domain\":[0.03762029746281716,0.9415463692038496],\"tickmode\":\"array\",\"linecolor\":\"rgba(0, 0, 0, 1.000)\",\"showgrid\":true,\"title\":\"\",\"mirror\":false,\"tickangle\":0,\"showline\":true,\"gridcolor\":\"rgba(0, 0, 0, 0.100)\",\"titlefont\":{\"color\":\"rgba(0, 0, 0, 1.000)\",\"family\":\"sans-serif\",\"size\":15},\"tickcolor\":\"rgb(0, 0, 0)\",\"ticktext\":[\"0\",\"1×10⁴\",\"2×10⁴\",\"3×10⁴\",\"4×10⁴\",\"5×10⁴\",\"6×10⁴\"],\"zeroline\":false,\"type\":\"-\",\"tickfont\":{\"color\":\"rgba(0, 0, 0, 1.000)\",\"family\":\"sans-serif\",\"size\":11},\"zerolinecolor\":\"rgba(0, 0, 0, 1.000)\",\"anchor\":\"x1\"},\"legend\":{\"tracegroupgap\":0,\"bordercolor\":\"rgba(0, 0, 0, 1.000)\",\"bgcolor\":\"rgba(255, 255, 255, 1.000)\",\"font\":{\"color\":\"rgba(0, 0, 0, 1.000)\",\"family\":\"sans-serif\",\"size\":11},\"y\":1.0,\"x\":1.0},\"width\":600});\n",
       "    </script>\n"
      ]
     },
     "execution_count": 5,
     "metadata": {},
     "output_type": "execute_result"
    }
   ],
   "source": [
    "# wykres\n",
    "x = [\"10\",\"100\",\"200\",\"500\",\"700\",\"1000\",\"2000\",\"5000\",\"7000\",\"10000\"]\n",
    "plot(x,y,title=\"Czas obliczeń [ms]\",label=[\"Cholesky\" \"A\\\\b\" \"A^(-1)*b\"],lw=3)"
   ]
  },
  {
   "cell_type": "markdown",
   "metadata": {},
   "source": [
    "## Zadanie 3"
   ]
  },
  {
   "cell_type": "markdown",
   "metadata": {},
   "source": [
    "Napisz funkcję, która obliczy wartość liczby $\\pi$ metodą Monte Carlo <b>(3 p.)</b>"
   ]
  },
  {
   "cell_type": "code",
   "execution_count": 6,
   "metadata": {},
   "outputs": [
    {
     "data": {
      "text/plain": [
       "3.141556476"
      ]
     },
     "execution_count": 6,
     "metadata": {},
     "output_type": "execute_result"
    }
   ],
   "source": [
    "# losujemy punkty na planie kwadratu o boku 1\n",
    "# i sprawdzamy czy punkt trafia w koło o środku w punkcie 0.5;0.5 i promieniu 0.5\n",
    "# (koło jest styczne do wszystkich boków kwadratu)\n",
    "# powód: pole kwadratu to (2r)² gdzie r to promień koła wewnątrz kwadratu, a pole koła to πr²\n",
    "# proporcje tych pól to πr²/(2r)²  ->  πr²/4r²  ->  πr²/4r²  ->  π/4 \n",
    "# z tego wynika, że szansa trafienia w koło przybliża pi podzielone przez 4\n",
    "\n",
    "function PI_Monte_Carlo(iterations::Int64)\n",
    "    # licznik trafień\n",
    "    counter = 0\n",
    "    # losujemy tyle razy ile wynosi wartość argumentu iterations\n",
    "    for i = 1:iterations\n",
    "        # losuje punkt wewnątrz kwadratu i liczy jego odległość do środka koła\n",
    "        distance = ((0.5-rand())^2+(0.5-rand())^2)^(1/2)\n",
    "        # jeśli punkt jest w odległości mniejszej bądź równej niż 0.5 to znajduje się na kole\n",
    "        if distance <= 0.5\n",
    "            counter += 1 # inkrementacja licznika trafień\n",
    "        end\n",
    "    end\n",
    "    # losowanie przybliża π podzielone przez 4 więc tutaj mnożymy przez 4 żeby otrzymać π\n",
    "    return (counter/iterations)*4\n",
    "end\n",
    "PI_Monte_Carlo(1000000000) # wywołanie funkcji z miliardem iteracji"
   ]
  }
 ],
 "metadata": {
  "kernelspec": {
   "display_name": "Julia 1.0.3 (4 threads)",
   "language": "julia",
   "name": "julia-1.0k"
  },
  "language_info": {
   "file_extension": ".jl",
   "mimetype": "application/julia",
   "name": "julia",
   "version": "1.0.3"
  }
 },
 "nbformat": 4,
 "nbformat_minor": 2
}
